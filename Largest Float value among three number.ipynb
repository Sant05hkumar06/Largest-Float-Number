{
 "cells": [
  {
   "cell_type": "markdown",
   "id": "vocal-momentum",
   "metadata": {},
   "source": [
    "### Write a program to read 3 float numbers and print the largest value"
   ]
  },
  {
   "cell_type": "code",
   "execution_count": 4,
   "id": "instant-filing",
   "metadata": {},
   "outputs": [
    {
     "name": "stdout",
     "output_type": "stream",
     "text": [
      "Enter the number for a:36.9\n",
      "Enter the number for b:28.9\n",
      "Enter the number for a:45.6\n",
      "c with value 45.6 is the largest number\n"
     ]
    }
   ],
   "source": [
    "a= float(input(\"Enter the number for a:\"))\n",
    "b= float(input(\"Enter the number for b:\"))\n",
    "c= float(input(\"Enter the number for a:\"))\n",
    "\n",
    "if a>b and a>c:\n",
    "    print(f\"a with value {a} is the largest number\")\n",
    "\n",
    "elif b>c and b>a:\n",
    "    print(f\"b with value {b} is the largest number\")\n",
    "\n",
    "else:\n",
    "    print(f\"c with value {c} is the largest number\")"
   ]
  },
  {
   "cell_type": "code",
   "execution_count": null,
   "id": "streaming-thomas",
   "metadata": {},
   "outputs": [],
   "source": []
  }
 ],
 "metadata": {
  "kernelspec": {
   "display_name": "Python 3",
   "language": "python",
   "name": "python3"
  },
  "language_info": {
   "codemirror_mode": {
    "name": "ipython",
    "version": 3
   },
   "file_extension": ".py",
   "mimetype": "text/x-python",
   "name": "python",
   "nbconvert_exporter": "python",
   "pygments_lexer": "ipython3",
   "version": "3.9.2"
  }
 },
 "nbformat": 4,
 "nbformat_minor": 5
}
